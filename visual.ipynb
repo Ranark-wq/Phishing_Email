{
 "cells": [
  {
   "cell_type": "code",
   "execution_count": null,
   "metadata": {},
   "outputs": [],
   "source": [
    "import matplotlib.pyplot as plt\n",
    "import seaborn as sns\n",
    "import pandas as pd\n",
    "from sklearn.metrics import confusion_matrix, roc_curve, auc, roc_auc_score\n",
    "\n",
    "# 📊 1️⃣ Confusion Matrix Heatmaps\n",
    "def plot_confusion_matrix(cm, title):\n",
    "    plt.figure(figsize=(5,4))\n",
    "    sns.heatmap(cm, annot=True, fmt='d', cmap='Blues', xticklabels=['Ham', 'Phishing'], yticklabels=['Ham', 'Phishing'])\n",
    "    plt.xlabel('Predicted')\n",
    "    plt.ylabel('Actual')\n",
    "    plt.title(title)\n",
    "    plt.show()\n",
    "\n",
    "# Plot confusion matrices for each model\n",
    "plot_confusion_matrix(confusion_matrix(y_test, xgb.predict(X_test)), \"XGBoost Confusion Matrix\")\n",
    "plot_confusion_matrix(confusion_matrix(y_test, nb.predict(X_test)), \"Naïve Bayes Confusion Matrix\")\n",
    "plot_confusion_matrix(confusion_matrix(y_test, svm.predict(X_test_scaled)), \"SVM Confusion Matrix\")\n",
    "\n",
    "# 📊 2️⃣ ROC Curve for all models\n",
    "plt.figure(figsize=(7,5))\n",
    "fpr_xgb, tpr_xgb, _ = roc_curve(y_test, xgb.predict_proba(X_test)[:,1])\n",
    "fpr_nb, tpr_nb, _ = roc_curve(y_test, nb.predict_proba(X_test)[:,1])\n",
    "fpr_svm, tpr_svm, _ = roc_curve(y_test, svm.predict_proba(X_test_scaled)[:,1])\n",
    "\n",
    "plt.plot(fpr_xgb, tpr_xgb, label=f'XGBoost (AUC: {round(roc_auc_score(y_test, xgb.predict_proba(X_test)[:,1]), 3)})', linestyle='-')\n",
    "plt.plot(fpr_nb, tpr_nb, label=f'Naïve Bayes (AUC: {round(roc_auc_score(y_test, nb.predict_proba(X_test)[:,1]), 3)})', linestyle='--')\n",
    "plt.plot(fpr_svm, tpr_svm, label=f'SVM (AUC: {round(roc_auc_score(y_test, svm.predict_proba(X_test_scaled)[:,1]), 3)})', linestyle='-.')\n",
    "plt.plot([0, 1], [0, 1], 'k--')  # Random model line\n",
    "\n",
    "plt.xlabel(\"False Positive Rate\")\n",
    "plt.ylabel(\"True Positive Rate\")\n",
    "plt.title(\"ROC Curve Comparison\")\n",
    "plt.legend()\n",
    "plt.show()\n",
    "\n",
    "# 📊 3️⃣ Bar Chart Comparison\n",
    "metrics = {\n",
    "    'Model': ['XGBoost', 'Naïve Bayes', 'SVM'],\n",
    "    'Accuracy': [0.98, 0.90, 0.96],\n",
    "    'Precision': [0.98, 0.89, 0.96],\n",
    "    'Recall': [0.99, 0.93, 0.98],\n",
    "    'F1-Score': [0.98, 0.91, 0.97]\n",
    "}\n",
    "\n",
    "df_metrics = pd.DataFrame(metrics)\n",
    "\n",
    "df_metrics.set_index('Model').plot(kind='bar', figsize=(8,6), colormap='viridis', rot=0)\n",
    "plt.title(\"Model Performance Comparison\")\n",
    "plt.ylabel(\"Score\")\n",
    "plt.ylim(0.85, 1)  # Keep y-axis within relevant range\n",
    "plt.show()\n"
   ]
  }
 ],
 "metadata": {
  "kernelspec": {
   "display_name": ".venv",
   "language": "python",
   "name": "python3"
  },
  "language_info": {
   "codemirror_mode": {
    "name": "ipython",
    "version": 3
   },
   "file_extension": ".py",
   "mimetype": "text/x-python",
   "name": "python",
   "nbconvert_exporter": "python",
   "pygments_lexer": "ipython3",
   "version": "3.8.10"
  }
 },
 "nbformat": 4,
 "nbformat_minor": 2
}

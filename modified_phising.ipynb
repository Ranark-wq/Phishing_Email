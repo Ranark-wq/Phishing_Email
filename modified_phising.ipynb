{
 "cells": [
  {
   "cell_type": "code",
   "execution_count": null,
   "metadata": {
    "vscode": {
     "languageId": "plaintext"
    }
   },
   "outputs": [],
   "source": [
    "import pandas as pd\n",
    "import numpy as np\n",
    "import re\n",
    "from sklearn.model_selection import train_test_split\n",
    "from sklearn.feature_extraction.text import CountVectorizer\n",
    "from sklearn.naive_bayes import MultinomialNB\n",
    "from xgboost import XGBClassifier\n",
    "from sklearn.metrics import classification_report, confusion_matrix, roc_auc_score\n",
    "\n",
    "# Load data\n",
    "df = pd.read_csv('CEAS_08.csv')\n",
    "df.dropna(subset=['body'], inplace=True)\n",
    "\n",
    "# Limit dataset size to reduce memory usage\n",
    "# df = df.sample(n=10000, random_state=42)  \n",
    "\n",
    "# Clean text & extract URLs\n",
    "def clean_email(email):\n",
    "    email = re.sub(r'http[s]?://\\S+', '', email)  # Remove URLs\n",
    "    email = re.sub(r'[^a-zA-Z\\s]', '', email).lower()  # Keep text only\n",
    "    return email\n",
    "\n",
    "df['cleaned_body'] = df['body'].apply(clean_email)\n",
    "\n",
    "# Convert text into numerical features (Bag of Words)\n",
    "vectorizer = CountVectorizer(stop_words='english', max_features=5000)\n",
    "X_text = vectorizer.fit_transform(df['cleaned_body']).toarray()\n",
    "\n",
    "# Extract sender domain\n",
    "df['sender_domain'] = df['sender'].apply(lambda x: x.split('@')[-1] if '@' in str(x) else 'unknown')\n",
    "df['sender_domain'] = pd.factorize(df['sender_domain'])[0]\n",
    "\n",
    "# Feature set\n",
    "X = np.hstack((X_text, df[['sender_domain']].values))  # No scaling needed for Naïve Bayes\n",
    "y = df['label']\n",
    "\n",
    "# Train-test split\n",
    "X_train, X_test, y_train, y_test = train_test_split(X, y, test_size=0.2, stratify=y, random_state=42)\n",
    "\n",
    "# Train Naïve Bayes\n",
    "nb = MultinomialNB()\n",
    "nb.fit(X_train, y_train)\n",
    "\n",
    "# Train XGBoost\n",
    "xgb = XGBClassifier(max_depth=6, learning_rate=0.1, n_estimators=100, objective='binary:logistic', eval_metric='auc')\n",
    "xgb.fit(X_train, y_train)\n",
    "\n",
    "# Predictions & Evaluation\n",
    "models = {'XGBoost': xgb, 'Naïve Bayes': nb}\n",
    "\n",
    "for name, model in models.items():\n",
    "    y_pred = model.predict(X_test)\n",
    "    y_pred_proba = model.predict_proba(X_test)[:, 1] if hasattr(model, \"predict_proba\") else None\n",
    "\n",
    "    print(f\"\\n{name} Model Results:\")\n",
    "    print(confusion_matrix(y_test, y_pred))\n",
    "    print(classification_report(y_test, y_pred))\n",
    "    if y_pred_proba is not None:\n",
    "        print(\"ROC-AUC Score:\", roc_auc_score(y_test, y_pred_proba))\n"
   ]
  }
 ],
 "metadata": {
  "language_info": {
   "name": "python"
  }
 },
 "nbformat": 4,
 "nbformat_minor": 2
}

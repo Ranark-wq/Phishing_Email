{
 "cells": [
  {
   "cell_type": "code",
   "execution_count": null,
   "metadata": {},
   "outputs": [
    {
     "ename": "",
     "evalue": "",
     "output_type": "error",
     "traceback": [
      "\u001b[1;31mThe Kernel crashed while executing code in the current cell or a previous cell. \n",
      "\u001b[1;31mPlease review the code in the cell(s) to identify a possible cause of the failure. \n",
      "\u001b[1;31mClick <a href='https://aka.ms/vscodeJupyterKernelCrash'>here</a> for more info. \n",
      "\u001b[1;31mView Jupyter <a href='command:jupyter.viewOutput'>log</a> for further details."
     ]
    }
   ],
   "source": [
    "import pandas as pd\n",
    "import numpy as np\n",
    "import re\n",
    "from sklearn.model_selection import train_test_split\n",
    "from sklearn.feature_extraction.text import CountVectorizer\n",
    "from sklearn.preprocessing import StandardScaler\n",
    "from xgboost import XGBClassifier\n",
    "from sklearn.metrics import classification_report, confusion_matrix, roc_auc_score\n",
    "from urllib.parse import urlparse\n",
    "\n",
    "# Load data\n",
    "df = pd.read_csv('CEAS_08.csv')\n",
    "df.dropna(subset=['body'], inplace=True)\n",
    "\n",
    "# Clean text & extract URLs\n",
    "def clean_email(email):\n",
    "    urls = re.findall(r'http[s]?://\\S+', email)\n",
    "    email = re.sub(r'http[s]?://\\S+', '', email)  # Remove URLs\n",
    "    email = re.sub(r'[^a-zA-Z\\s]', '', email).lower()  # Keep text only\n",
    "    return email, len(urls)\n",
    "\n",
    "df['cleaned_body'], df['num_urls'] = zip(*df['body'].apply(clean_email))\n",
    "\n",
    "# Bag of Words Vectorization\n",
    "vectorizer = CountVectorizer(stop_words='english', max_features=5000)\n",
    "X_text = vectorizer.fit_transform(df['cleaned_body']).toarray()\n",
    "\n",
    "# Extract sender domain\n",
    "df['sender_domain'] = df['sender'].apply(lambda x: x.split('@')[-1] if '@' in str(x) else 'unknown')\n",
    "df['sender_domain'] = pd.factorize(df['sender_domain'])[0]\n",
    "\n",
    "# Feature set\n",
    "X = np.hstack((X_text, df[['num_urls', 'sender_domain']].values))\n",
    "y = df['label']\n",
    "\n",
    "# Train-test split\n",
    "X_train, X_test, y_train, y_test = train_test_split(X, y, test_size=0.2, stratify=y, random_state=42)\n",
    "\n",
    "# Standardize numerical features\n",
    "scaler = StandardScaler()\n",
    "X_train[:, -2:] = scaler.fit_transform(X_train[:, -2:])\n",
    "X_test[:, -2:] = scaler.transform(X_test[:, -2:])\n",
    "\n",
    "# Train XGBoost\n",
    "xgb = XGBClassifier(max_depth=6, learning_rate=0.1, n_estimators=100, objective='binary:logistic', eval_metric='auc')\n",
    "xgb.fit(X_train, y_train)\n",
    "\n",
    "# Predictions & Evaluation\n",
    "y_pred = xgb.predict(X_test)\n",
    "y_pred_proba = xgb.predict_proba(X_test)[:, 1]\n",
    "\n",
    "print(confusion_matrix(y_test, y_pred))\n",
    "print(classification_report(y_test, y_pred))\n",
    "print(\"ROC-AUC Score:\", roc_auc_score(y_test, y_pred_proba))"
   ]
  }
 ],
 "metadata": {
  "kernelspec": {
   "display_name": ".venv",
   "language": "python",
   "name": "python3"
  },
  "language_info": {
   "codemirror_mode": {
    "name": "ipython",
    "version": 3
   },
   "file_extension": ".py",
   "mimetype": "text/x-python",
   "name": "python",
   "nbconvert_exporter": "python",
   "pygments_lexer": "ipython3",
   "version": "3.8.10"
  }
 },
 "nbformat": 4,
 "nbformat_minor": 2
}
